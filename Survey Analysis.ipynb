{
 "cells": [
  {
   "cell_type": "markdown",
   "metadata": {},
   "source": [
    "# Analyze the Survey Data\n",
    "\n",
    "Analyze the survey data in `survey.csv` using the power of PYTHON!!\n",
    "\n",
    "Also STATISTICS!!\n",
    "\n",
    "And maybe some other made up stuff"
   ]
  },
  {
   "cell_type": "markdown",
   "metadata": {},
   "source": [
    "## Installing\n",
    "\n",
    "In a clean `python3` environment, run:"
   ]
  },
  {
   "cell_type": "code",
   "execution_count": 1,
   "metadata": {},
   "outputs": [
    {
     "name": "stdout",
     "output_type": "stream",
     "text": [
      "Requirement already satisfied: attrs==19.1.0 in /home/david/Desktop/grr_env/lib/python3.7/site-packages (from -r requirements.txt (line 1)) (19.1.0)\n",
      "Requirement already satisfied: backcall==0.1.0 in /home/david/Desktop/grr_env/lib/python3.7/site-packages (from -r requirements.txt (line 2)) (0.1.0)\n",
      "Requirement already satisfied: bleach==3.1.0 in /home/david/Desktop/grr_env/lib/python3.7/site-packages (from -r requirements.txt (line 3)) (3.1.0)\n",
      "Requirement already satisfied: cycler==0.10.0 in /home/david/Desktop/grr_env/lib/python3.7/site-packages (from -r requirements.txt (line 4)) (0.10.0)\n",
      "Requirement already satisfied: decorator==4.4.0 in /home/david/Desktop/grr_env/lib/python3.7/site-packages (from -r requirements.txt (line 5)) (4.4.0)\n",
      "Requirement already satisfied: defusedxml==0.6.0 in /home/david/Desktop/grr_env/lib/python3.7/site-packages (from -r requirements.txt (line 6)) (0.6.0)\n",
      "Requirement already satisfied: entrypoints==0.3 in /home/david/Desktop/grr_env/lib/python3.7/site-packages (from -r requirements.txt (line 7)) (0.3)\n",
      "Requirement already satisfied: ipykernel==5.1.1 in /home/david/Desktop/grr_env/lib/python3.7/site-packages (from -r requirements.txt (line 8)) (5.1.1)\n",
      "Requirement already satisfied: ipython==7.6.1 in /home/david/Desktop/grr_env/lib/python3.7/site-packages (from -r requirements.txt (line 9)) (7.6.1)\n",
      "Requirement already satisfied: ipython-genutils==0.2.0 in /home/david/Desktop/grr_env/lib/python3.7/site-packages (from -r requirements.txt (line 10)) (0.2.0)\n",
      "Requirement already satisfied: ipywidgets==7.5.0 in /home/david/Desktop/grr_env/lib/python3.7/site-packages (from -r requirements.txt (line 11)) (7.5.0)\n",
      "Requirement already satisfied: jedi==0.14.1 in /home/david/Desktop/grr_env/lib/python3.7/site-packages (from -r requirements.txt (line 12)) (0.14.1)\n",
      "Requirement already satisfied: Jinja2==2.10.1 in /home/david/Desktop/grr_env/lib/python3.7/site-packages (from -r requirements.txt (line 13)) (2.10.1)\n",
      "Requirement already satisfied: joblib==0.13.2 in /home/david/Desktop/grr_env/lib/python3.7/site-packages (from -r requirements.txt (line 14)) (0.13.2)\n",
      "Requirement already satisfied: jsonschema==3.0.1 in /home/david/Desktop/grr_env/lib/python3.7/site-packages (from -r requirements.txt (line 15)) (3.0.1)\n",
      "Requirement already satisfied: jupyter==1.0.0 in /home/david/Desktop/grr_env/lib/python3.7/site-packages (from -r requirements.txt (line 16)) (1.0.0)\n",
      "Requirement already satisfied: jupyter-client==5.3.1 in /home/david/Desktop/grr_env/lib/python3.7/site-packages (from -r requirements.txt (line 17)) (5.3.1)\n",
      "Requirement already satisfied: jupyter-console==6.0.0 in /home/david/Desktop/grr_env/lib/python3.7/site-packages (from -r requirements.txt (line 18)) (6.0.0)\n",
      "Requirement already satisfied: jupyter-core==4.5.0 in /home/david/Desktop/grr_env/lib/python3.7/site-packages (from -r requirements.txt (line 19)) (4.5.0)\n",
      "Requirement already satisfied: kiwisolver==1.1.0 in /home/david/Desktop/grr_env/lib/python3.7/site-packages (from -r requirements.txt (line 20)) (1.1.0)\n",
      "Requirement already satisfied: MarkupSafe==1.1.1 in /home/david/Desktop/grr_env/lib/python3.7/site-packages (from -r requirements.txt (line 21)) (1.1.1)\n",
      "Requirement already satisfied: matplotlib==3.1.1 in /home/david/Desktop/grr_env/lib/python3.7/site-packages (from -r requirements.txt (line 22)) (3.1.1)\n",
      "Requirement already satisfied: mistune==0.8.4 in /home/david/Desktop/grr_env/lib/python3.7/site-packages (from -r requirements.txt (line 23)) (0.8.4)\n",
      "Requirement already satisfied: nbconvert==5.5.0 in /home/david/Desktop/grr_env/lib/python3.7/site-packages (from -r requirements.txt (line 24)) (5.5.0)\n",
      "Requirement already satisfied: nbformat==4.4.0 in /home/david/Desktop/grr_env/lib/python3.7/site-packages (from -r requirements.txt (line 25)) (4.4.0)\n",
      "Requirement already satisfied: notebook==6.0.0 in /home/david/Desktop/grr_env/lib/python3.7/site-packages (from -r requirements.txt (line 26)) (6.0.0)\n",
      "Requirement already satisfied: numpy==1.16.4 in /home/david/Desktop/grr_env/lib/python3.7/site-packages (from -r requirements.txt (line 27)) (1.16.4)\n",
      "Requirement already satisfied: pandas==0.25.0 in /home/david/Desktop/grr_env/lib/python3.7/site-packages (from -r requirements.txt (line 28)) (0.25.0)\n",
      "Requirement already satisfied: pandocfilters==1.4.2 in /home/david/Desktop/grr_env/lib/python3.7/site-packages (from -r requirements.txt (line 29)) (1.4.2)\n",
      "Requirement already satisfied: parso==0.5.1 in /home/david/Desktop/grr_env/lib/python3.7/site-packages (from -r requirements.txt (line 30)) (0.5.1)\n",
      "Requirement already satisfied: patsy==0.5.1 in /home/david/Desktop/grr_env/lib/python3.7/site-packages (from -r requirements.txt (line 31)) (0.5.1)\n",
      "Requirement already satisfied: pexpect==4.7.0 in /home/david/Desktop/grr_env/lib/python3.7/site-packages (from -r requirements.txt (line 32)) (4.7.0)\n",
      "Requirement already satisfied: pickleshare==0.7.5 in /home/david/Desktop/grr_env/lib/python3.7/site-packages (from -r requirements.txt (line 33)) (0.7.5)\n",
      "Requirement already satisfied: prometheus-client==0.7.1 in /home/david/Desktop/grr_env/lib/python3.7/site-packages (from -r requirements.txt (line 34)) (0.7.1)\n",
      "Requirement already satisfied: prompt-toolkit==2.0.9 in /home/david/Desktop/grr_env/lib/python3.7/site-packages (from -r requirements.txt (line 35)) (2.0.9)\n",
      "Requirement already satisfied: ptyprocess==0.6.0 in /home/david/Desktop/grr_env/lib/python3.7/site-packages (from -r requirements.txt (line 36)) (0.6.0)\n",
      "Requirement already satisfied: Pygments==2.4.2 in /home/david/Desktop/grr_env/lib/python3.7/site-packages (from -r requirements.txt (line 37)) (2.4.2)\n",
      "Requirement already satisfied: pyparsing==2.4.1 in /home/david/Desktop/grr_env/lib/python3.7/site-packages (from -r requirements.txt (line 38)) (2.4.1)\n",
      "Requirement already satisfied: pyrsistent==0.15.3 in /home/david/Desktop/grr_env/lib/python3.7/site-packages (from -r requirements.txt (line 39)) (0.15.3)\n",
      "Requirement already satisfied: python-dateutil==2.8.0 in /home/david/Desktop/grr_env/lib/python3.7/site-packages (from -r requirements.txt (line 40)) (2.8.0)\n",
      "Requirement already satisfied: pytz==2019.1 in /home/david/Desktop/grr_env/lib/python3.7/site-packages (from -r requirements.txt (line 41)) (2019.1)\n",
      "Requirement already satisfied: pyzmq==18.0.2 in /home/david/Desktop/grr_env/lib/python3.7/site-packages (from -r requirements.txt (line 42)) (18.0.2)\n",
      "Requirement already satisfied: qtconsole==4.5.1 in /home/david/Desktop/grr_env/lib/python3.7/site-packages (from -r requirements.txt (line 43)) (4.5.1)\n",
      "Requirement already satisfied: scikit-learn==0.21.2 in /home/david/Desktop/grr_env/lib/python3.7/site-packages (from -r requirements.txt (line 44)) (0.21.2)\n",
      "Requirement already satisfied: scipy==1.3.0 in /home/david/Desktop/grr_env/lib/python3.7/site-packages (from -r requirements.txt (line 45)) (1.3.0)\n",
      "Requirement already satisfied: seaborn==0.9.0 in /home/david/Desktop/grr_env/lib/python3.7/site-packages (from -r requirements.txt (line 46)) (0.9.0)\n",
      "Requirement already satisfied: Send2Trash==1.5.0 in /home/david/Desktop/grr_env/lib/python3.7/site-packages (from -r requirements.txt (line 47)) (1.5.0)\n",
      "Requirement already satisfied: six==1.12.0 in /home/david/Desktop/grr_env/lib/python3.7/site-packages (from -r requirements.txt (line 48)) (1.12.0)\n",
      "Requirement already satisfied: statsmodels==0.10.1 in /home/david/Desktop/grr_env/lib/python3.7/site-packages (from -r requirements.txt (line 49)) (0.10.1)\n",
      "Requirement already satisfied: terminado==0.8.2 in /home/david/Desktop/grr_env/lib/python3.7/site-packages (from -r requirements.txt (line 50)) (0.8.2)\n",
      "Requirement already satisfied: testpath==0.4.2 in /home/david/Desktop/grr_env/lib/python3.7/site-packages (from -r requirements.txt (line 51)) (0.4.2)\n",
      "Requirement already satisfied: tornado==6.0.3 in /home/david/Desktop/grr_env/lib/python3.7/site-packages (from -r requirements.txt (line 52)) (6.0.3)\n",
      "Requirement already satisfied: traitlets==4.3.2 in /home/david/Desktop/grr_env/lib/python3.7/site-packages (from -r requirements.txt (line 53)) (4.3.2)\n",
      "Requirement already satisfied: wcwidth==0.1.7 in /home/david/Desktop/grr_env/lib/python3.7/site-packages (from -r requirements.txt (line 54)) (0.1.7)\n",
      "Requirement already satisfied: webencodings==0.5.1 in /home/david/Desktop/grr_env/lib/python3.7/site-packages (from -r requirements.txt (line 55)) (0.5.1)\n"
     ]
    },
    {
     "name": "stdout",
     "output_type": "stream",
     "text": [
      "Requirement already satisfied: widgetsnbextension==3.5.0 in /home/david/Desktop/grr_env/lib/python3.7/site-packages (from -r requirements.txt (line 56)) (3.5.0)\r\n",
      "Requirement already satisfied: setuptools>=18.5 in /home/david/Desktop/grr_env/lib/python3.7/site-packages (from ipython==7.6.1->-r requirements.txt (line 9)) (40.8.0)\r\n",
      "\u001b[33mYou are using pip version 19.0.3, however version 19.1.1 is available.\r\n",
      "You should consider upgrading via the 'pip install --upgrade pip' command.\u001b[0m\r\n"
     ]
    }
   ],
   "source": [
    "!pip install -r requirements.txt"
   ]
  },
  {
   "cell_type": "markdown",
   "metadata": {},
   "source": [
    "Imports and etc"
   ]
  },
  {
   "cell_type": "code",
   "execution_count": 2,
   "metadata": {},
   "outputs": [],
   "source": [
    "# Standard Lib\n",
    "import itertools\n",
    "\n",
    "# 3rd party\n",
    "import numpy as np\n",
    "\n",
    "import pandas as pd\n",
    "\n",
    "import seaborn as sns\n",
    "\n",
    "import matplotlib.pyplot as plt\n",
    "\n",
    "from scipy.stats import mannwhitneyu, ttest_ind\n"
   ]
  },
  {
   "cell_type": "markdown",
   "metadata": {},
   "source": [
    "## Loading the Raw Data\n",
    "\n",
    "Load the data"
   ]
  },
  {
   "cell_type": "code",
   "execution_count": 3,
   "metadata": {},
   "outputs": [],
   "source": [
    "df = pd.read_csv(\"survey.csv\")"
   ]
  },
  {
   "cell_type": "code",
   "execution_count": 4,
   "metadata": {},
   "outputs": [
    {
     "data": {
      "text/html": [
       "<div>\n",
       "<style scoped>\n",
       "    .dataframe tbody tr th:only-of-type {\n",
       "        vertical-align: middle;\n",
       "    }\n",
       "\n",
       "    .dataframe tbody tr th {\n",
       "        vertical-align: top;\n",
       "    }\n",
       "\n",
       "    .dataframe thead th {\n",
       "        text-align: right;\n",
       "    }\n",
       "</style>\n",
       "<table border=\"1\" class=\"dataframe\">\n",
       "  <thead>\n",
       "    <tr style=\"text-align: right;\">\n",
       "      <th></th>\n",
       "      <th>Timestamp</th>\n",
       "      <th>Gender identity?</th>\n",
       "      <th>What is your sexual identity?</th>\n",
       "      <th>What is your age?</th>\n",
       "      <th>What is the age range you are willing to date a member of your preferred sex (MPS)? (Check all that apply)</th>\n",
       "      <th>What is the age range you would PREFER/WANT to date?</th>\n",
       "      <th>For each of the age ranges you checked off that you would PREFER to date, please provide a short reason why you would date that age range</th>\n",
       "    </tr>\n",
       "  </thead>\n",
       "  <tbody>\n",
       "    <tr>\n",
       "      <th>0</th>\n",
       "      <td>2019/07/15 2:38:18 PM AST</td>\n",
       "      <td>Male</td>\n",
       "      <td>Heterosexual</td>\n",
       "      <td>26-29</td>\n",
       "      <td>3-5 years younger;Same age to 2 years younger;...</td>\n",
       "      <td>Same age to 2 years younger</td>\n",
       "      <td>Similar maturity.</td>\n",
       "    </tr>\n",
       "    <tr>\n",
       "      <th>1</th>\n",
       "      <td>2019/07/15 2:40:10 PM AST</td>\n",
       "      <td>Male</td>\n",
       "      <td>Heterosexual</td>\n",
       "      <td>30+</td>\n",
       "      <td>5-10 years younger;3-5 years younger;Same age ...</td>\n",
       "      <td>5-10 years younger;3-5 years younger;Same age ...</td>\n",
       "      <td>kids, maturity level is more similar to mine</td>\n",
       "    </tr>\n",
       "    <tr>\n",
       "      <th>2</th>\n",
       "      <td>2019/07/15 2:42:02 PM AST</td>\n",
       "      <td>Male</td>\n",
       "      <td>Heterosexual</td>\n",
       "      <td>30+</td>\n",
       "      <td>10+ years younger;5-10 years younger;3-5 years...</td>\n",
       "      <td>10+ years younger;5-10 years younger;3-5 years...</td>\n",
       "      <td>10+ younger- Sugarbaby/eyecandy, 5-10 younger ...</td>\n",
       "    </tr>\n",
       "    <tr>\n",
       "      <th>3</th>\n",
       "      <td>2019/07/15 2:49:03 PM AST</td>\n",
       "      <td>Female</td>\n",
       "      <td>Heterosexual</td>\n",
       "      <td>23-25</td>\n",
       "      <td>Same age to 2 years younger;3 years older to s...</td>\n",
       "      <td>3 years older to same old</td>\n",
       "      <td>Like to taken care off lol</td>\n",
       "    </tr>\n",
       "    <tr>\n",
       "      <th>4</th>\n",
       "      <td>2019/07/15 2:54:49 PM AST</td>\n",
       "      <td>Male</td>\n",
       "      <td>Heterosexual</td>\n",
       "      <td>30+</td>\n",
       "      <td>5-10 years younger;3-5 years younger;Same age ...</td>\n",
       "      <td>Same age to 2 years younger;3 years older to s...</td>\n",
       "      <td>For females that are the same age to 2 years y...</td>\n",
       "    </tr>\n",
       "  </tbody>\n",
       "</table>\n",
       "</div>"
      ],
      "text/plain": [
       "                   Timestamp Gender identity? What is your sexual identity?  \\\n",
       "0  2019/07/15 2:38:18 PM AST             Male                  Heterosexual   \n",
       "1  2019/07/15 2:40:10 PM AST             Male                  Heterosexual   \n",
       "2  2019/07/15 2:42:02 PM AST             Male                  Heterosexual   \n",
       "3  2019/07/15 2:49:03 PM AST           Female                  Heterosexual   \n",
       "4  2019/07/15 2:54:49 PM AST             Male                  Heterosexual   \n",
       "\n",
       "  What is your age?  \\\n",
       "0             26-29   \n",
       "1               30+   \n",
       "2               30+   \n",
       "3             23-25   \n",
       "4               30+   \n",
       "\n",
       "  What is the age range you are willing to date a member of your preferred sex (MPS)? (Check all that apply)  \\\n",
       "0  3-5 years younger;Same age to 2 years younger;...                                                           \n",
       "1  5-10 years younger;3-5 years younger;Same age ...                                                           \n",
       "2  10+ years younger;5-10 years younger;3-5 years...                                                           \n",
       "3  Same age to 2 years younger;3 years older to s...                                                           \n",
       "4  5-10 years younger;3-5 years younger;Same age ...                                                           \n",
       "\n",
       "  What is the age range you would PREFER/WANT to date?  \\\n",
       "0                        Same age to 2 years younger     \n",
       "1  5-10 years younger;3-5 years younger;Same age ...     \n",
       "2  10+ years younger;5-10 years younger;3-5 years...     \n",
       "3                          3 years older to same old     \n",
       "4  Same age to 2 years younger;3 years older to s...     \n",
       "\n",
       "  For each of the age ranges you checked off that you would PREFER to date, please provide a short reason why you would date that age range  \n",
       "0                                 Similar maturity.                                                                                          \n",
       "1       kids, maturity level is more similar to mine                                                                                         \n",
       "2  10+ younger- Sugarbaby/eyecandy, 5-10 younger ...                                                                                         \n",
       "3                         Like to taken care off lol                                                                                         \n",
       "4  For females that are the same age to 2 years y...                                                                                         "
      ]
     },
     "execution_count": 4,
     "metadata": {},
     "output_type": "execute_result"
    }
   ],
   "source": [
    "df.head()"
   ]
  },
  {
   "cell_type": "markdown",
   "metadata": {},
   "source": [
    "## Data cleaning and normalization\n",
    "\n",
    "Alias categories for easier plotting"
   ]
  },
  {
   "cell_type": "code",
   "execution_count": 5,
   "metadata": {},
   "outputs": [],
   "source": [
    "df['gender'] = df['Gender identity?']\n",
    "df['identity'] = df['What is your sexual identity?']\n",
    "df['age'] = df['What is your age?']\n",
    "df['willing_to_date'] = df['What is the age range you are willing to date a member of your preferred sex (MPS)? (Check all that apply)']\n",
    "df['prefer_to_date'] = df['What is the age range you would PREFER/WANT to date?']\n",
    "df['reason'] = df['For each of the age ranges you checked off that you would PREFER to date, please provide a short reason why you would date that age range']\n",
    "\n",
    "df = df[['gender', 'identity', 'age', 'willing_to_date', 'prefer_to_date', 'reason']]"
   ]
  },
  {
   "cell_type": "code",
   "execution_count": 6,
   "metadata": {},
   "outputs": [
    {
     "data": {
      "text/html": [
       "<div>\n",
       "<style scoped>\n",
       "    .dataframe tbody tr th:only-of-type {\n",
       "        vertical-align: middle;\n",
       "    }\n",
       "\n",
       "    .dataframe tbody tr th {\n",
       "        vertical-align: top;\n",
       "    }\n",
       "\n",
       "    .dataframe thead th {\n",
       "        text-align: right;\n",
       "    }\n",
       "</style>\n",
       "<table border=\"1\" class=\"dataframe\">\n",
       "  <thead>\n",
       "    <tr style=\"text-align: right;\">\n",
       "      <th></th>\n",
       "      <th>gender</th>\n",
       "      <th>identity</th>\n",
       "      <th>age</th>\n",
       "      <th>willing_to_date</th>\n",
       "      <th>prefer_to_date</th>\n",
       "      <th>reason</th>\n",
       "    </tr>\n",
       "  </thead>\n",
       "  <tbody>\n",
       "    <tr>\n",
       "      <th>0</th>\n",
       "      <td>Male</td>\n",
       "      <td>Heterosexual</td>\n",
       "      <td>26-29</td>\n",
       "      <td>3-5 years younger;Same age to 2 years younger;...</td>\n",
       "      <td>Same age to 2 years younger</td>\n",
       "      <td>Similar maturity.</td>\n",
       "    </tr>\n",
       "    <tr>\n",
       "      <th>1</th>\n",
       "      <td>Male</td>\n",
       "      <td>Heterosexual</td>\n",
       "      <td>30+</td>\n",
       "      <td>5-10 years younger;3-5 years younger;Same age ...</td>\n",
       "      <td>5-10 years younger;3-5 years younger;Same age ...</td>\n",
       "      <td>kids, maturity level is more similar to mine</td>\n",
       "    </tr>\n",
       "    <tr>\n",
       "      <th>2</th>\n",
       "      <td>Male</td>\n",
       "      <td>Heterosexual</td>\n",
       "      <td>30+</td>\n",
       "      <td>10+ years younger;5-10 years younger;3-5 years...</td>\n",
       "      <td>10+ years younger;5-10 years younger;3-5 years...</td>\n",
       "      <td>10+ younger- Sugarbaby/eyecandy, 5-10 younger ...</td>\n",
       "    </tr>\n",
       "    <tr>\n",
       "      <th>3</th>\n",
       "      <td>Female</td>\n",
       "      <td>Heterosexual</td>\n",
       "      <td>23-25</td>\n",
       "      <td>Same age to 2 years younger;3 years older to s...</td>\n",
       "      <td>3 years older to same old</td>\n",
       "      <td>Like to taken care off lol</td>\n",
       "    </tr>\n",
       "    <tr>\n",
       "      <th>4</th>\n",
       "      <td>Male</td>\n",
       "      <td>Heterosexual</td>\n",
       "      <td>30+</td>\n",
       "      <td>5-10 years younger;3-5 years younger;Same age ...</td>\n",
       "      <td>Same age to 2 years younger;3 years older to s...</td>\n",
       "      <td>For females that are the same age to 2 years y...</td>\n",
       "    </tr>\n",
       "  </tbody>\n",
       "</table>\n",
       "</div>"
      ],
      "text/plain": [
       "   gender      identity    age  \\\n",
       "0    Male  Heterosexual  26-29   \n",
       "1    Male  Heterosexual    30+   \n",
       "2    Male  Heterosexual    30+   \n",
       "3  Female  Heterosexual  23-25   \n",
       "4    Male  Heterosexual    30+   \n",
       "\n",
       "                                     willing_to_date  \\\n",
       "0  3-5 years younger;Same age to 2 years younger;...   \n",
       "1  5-10 years younger;3-5 years younger;Same age ...   \n",
       "2  10+ years younger;5-10 years younger;3-5 years...   \n",
       "3  Same age to 2 years younger;3 years older to s...   \n",
       "4  5-10 years younger;3-5 years younger;Same age ...   \n",
       "\n",
       "                                      prefer_to_date  \\\n",
       "0                        Same age to 2 years younger   \n",
       "1  5-10 years younger;3-5 years younger;Same age ...   \n",
       "2  10+ years younger;5-10 years younger;3-5 years...   \n",
       "3                          3 years older to same old   \n",
       "4  Same age to 2 years younger;3 years older to s...   \n",
       "\n",
       "                                              reason  \n",
       "0                                 Similar maturity.   \n",
       "1       kids, maturity level is more similar to mine  \n",
       "2  10+ younger- Sugarbaby/eyecandy, 5-10 younger ...  \n",
       "3                         Like to taken care off lol  \n",
       "4  For females that are the same age to 2 years y...  "
      ]
     },
     "execution_count": 6,
     "metadata": {},
     "output_type": "execute_result"
    }
   ],
   "source": [
    "df.head()"
   ]
  },
  {
   "cell_type": "markdown",
   "metadata": {},
   "source": [
    "## Parameters that really mess with the analysis\n",
    "\n",
    "These are the parameters that really shape how the analysis works\n",
    "\n"
   ]
  },
  {
   "cell_type": "code",
   "execution_count": 7,
   "metadata": {},
   "outputs": [],
   "source": [
    "# The maximum value that people meant by selecting \"30+ years old\"\n",
    "max_age = 50  # in years - Maximum age in the survey\n",
    "\n",
    "# The minimum value that people meant by selecting \"10+ years younger\"\n",
    "max_younger = -30  # in years - Minimum age difference in the survey\n",
    "\n",
    "# The maximum value that people meant by selecting \"10+ years younger\"\n",
    "max_older = 30  # in years - Maximum age difference in the survey"
   ]
  },
  {
   "cell_type": "markdown",
   "metadata": {},
   "source": [
    "Encode the category ranges to numeric values for ease of analysis"
   ]
  },
  {
   "cell_type": "code",
   "execution_count": 8,
   "metadata": {},
   "outputs": [],
   "source": [
    "# Map the long category names to numeric values\n",
    "preferred_date_map = {\n",
    "    '10+ years older': (10, max_older),\n",
    "    '10+ years younger': (max_younger, -10),\n",
    "    '3 years older to same age': (0, 3),\n",
    "    '3 years older to same old': (0, 3),\n",
    "    '3-5 years younger': (-5, -3),\n",
    "    '3-6 years older': (3, 6),\n",
    "    '5-10 years younger': (-10, -5),\n",
    "    '7-10 years older': (7, 10),\n",
    "    'Same age to 2 years younger': (-2, 0),\n",
    "}\n",
    "\n",
    "def encode_ranges(cat: str) -> tuple:\n",
    "    \"\"\" Encode the range checkboxes into a bounding range \"\"\"\n",
    "    if cat in (None, np.nan):\n",
    "        return pd.Series({'min': np.nan, 'mean': np.nan, 'max': np.nan})\n",
    "    ranges = np.array([preferred_date_map[c] for c in cat.split(';') if c in preferred_date_map])\n",
    "    min_range = np.min(ranges)\n",
    "    max_range = np.max(ranges)\n",
    "    mean_range = np.mean([min_range, max_range])\n",
    "    \n",
    "    return pd.Series({'min': min_range, 'mean': mean_range, 'max': max_range})\n",
    "    \n",
    "\n",
    "# Encode the checkboxes into ranges\n",
    "willing_range = df['willing_to_date'].apply(encode_ranges)\n",
    "df['min_willing'] = willing_range['min']\n",
    "df['mean_willing'] = willing_range['mean']\n",
    "df['max_willing'] = willing_range['max']\n",
    "\n",
    "prefer_range = df['prefer_to_date'].apply(encode_ranges)\n",
    "df['min_prefer'] = prefer_range['min']\n",
    "df['mean_prefer'] = prefer_range['mean']\n",
    "df['max_prefer'] = prefer_range['max']\n",
    "\n",
    "# Encode the ages into ranges\n",
    "# Label to min, mean, max\n",
    "age_map = {\n",
    "    '18-22': (18, 20, 22),\n",
    "    '23-25': (23, 24, 25),\n",
    "    '26-29': (26, 27.5, 29),\n",
    "    '30+': (30, 40, max_age),\n",
    "}\n",
    "age_map = {k: pd.Series({'min': v0, 'mean': v1, 'max': v2})\n",
    "           for k, (v0, v1, v2) in age_map.items()}\n",
    "age_range = df['age'].apply(lambda x: age_map[x])\n",
    "df['min_age'] = age_range['min']\n",
    "df['mean_age'] = age_range['mean']\n",
    "df['max_age'] = age_range['max']\n",
    "\n",
    "# Drop the unused columns again\n",
    "df = df[['gender', 'identity',\n",
    "         'age', 'min_age', 'mean_age', 'max_age',\n",
    "         'min_willing', 'mean_willing', 'max_willing',\n",
    "         'min_prefer', 'mean_prefer', 'max_prefer',\n",
    "         'reason']]\n"
   ]
  },
  {
   "cell_type": "code",
   "execution_count": 9,
   "metadata": {},
   "outputs": [
    {
     "name": "stdout",
     "output_type": "stream",
     "text": [
      "Before dropping invalid values: (83, 13)\n",
      "After dropping invalid values: (82, 13)\n"
     ]
    },
    {
     "data": {
      "text/html": [
       "<div>\n",
       "<style scoped>\n",
       "    .dataframe tbody tr th:only-of-type {\n",
       "        vertical-align: middle;\n",
       "    }\n",
       "\n",
       "    .dataframe tbody tr th {\n",
       "        vertical-align: top;\n",
       "    }\n",
       "\n",
       "    .dataframe thead th {\n",
       "        text-align: right;\n",
       "    }\n",
       "</style>\n",
       "<table border=\"1\" class=\"dataframe\">\n",
       "  <thead>\n",
       "    <tr style=\"text-align: right;\">\n",
       "      <th></th>\n",
       "      <th>gender</th>\n",
       "      <th>identity</th>\n",
       "      <th>age</th>\n",
       "      <th>min_age</th>\n",
       "      <th>mean_age</th>\n",
       "      <th>max_age</th>\n",
       "      <th>min_willing</th>\n",
       "      <th>mean_willing</th>\n",
       "      <th>max_willing</th>\n",
       "      <th>min_prefer</th>\n",
       "      <th>mean_prefer</th>\n",
       "      <th>max_prefer</th>\n",
       "      <th>reason</th>\n",
       "    </tr>\n",
       "  </thead>\n",
       "  <tbody>\n",
       "    <tr>\n",
       "      <th>0</th>\n",
       "      <td>Male</td>\n",
       "      <td>Heterosexual</td>\n",
       "      <td>26-29</td>\n",
       "      <td>26.0</td>\n",
       "      <td>27.5</td>\n",
       "      <td>29.0</td>\n",
       "      <td>-5.0</td>\n",
       "      <td>-1.0</td>\n",
       "      <td>3.0</td>\n",
       "      <td>-2.0</td>\n",
       "      <td>-1.0</td>\n",
       "      <td>0.0</td>\n",
       "      <td>Similar maturity.</td>\n",
       "    </tr>\n",
       "    <tr>\n",
       "      <th>1</th>\n",
       "      <td>Male</td>\n",
       "      <td>Heterosexual</td>\n",
       "      <td>30+</td>\n",
       "      <td>30.0</td>\n",
       "      <td>40.0</td>\n",
       "      <td>50.0</td>\n",
       "      <td>-10.0</td>\n",
       "      <td>-5.0</td>\n",
       "      <td>0.0</td>\n",
       "      <td>-10.0</td>\n",
       "      <td>-5.0</td>\n",
       "      <td>0.0</td>\n",
       "      <td>kids, maturity level is more similar to mine</td>\n",
       "    </tr>\n",
       "    <tr>\n",
       "      <th>2</th>\n",
       "      <td>Male</td>\n",
       "      <td>Heterosexual</td>\n",
       "      <td>30+</td>\n",
       "      <td>30.0</td>\n",
       "      <td>40.0</td>\n",
       "      <td>50.0</td>\n",
       "      <td>-30.0</td>\n",
       "      <td>0.0</td>\n",
       "      <td>30.0</td>\n",
       "      <td>-30.0</td>\n",
       "      <td>0.0</td>\n",
       "      <td>30.0</td>\n",
       "      <td>10+ younger- Sugarbaby/eyecandy, 5-10 younger ...</td>\n",
       "    </tr>\n",
       "    <tr>\n",
       "      <th>3</th>\n",
       "      <td>Female</td>\n",
       "      <td>Heterosexual</td>\n",
       "      <td>23-25</td>\n",
       "      <td>23.0</td>\n",
       "      <td>24.0</td>\n",
       "      <td>25.0</td>\n",
       "      <td>-2.0</td>\n",
       "      <td>0.5</td>\n",
       "      <td>3.0</td>\n",
       "      <td>0.0</td>\n",
       "      <td>1.5</td>\n",
       "      <td>3.0</td>\n",
       "      <td>Like to taken care off lol</td>\n",
       "    </tr>\n",
       "    <tr>\n",
       "      <th>4</th>\n",
       "      <td>Male</td>\n",
       "      <td>Heterosexual</td>\n",
       "      <td>30+</td>\n",
       "      <td>30.0</td>\n",
       "      <td>40.0</td>\n",
       "      <td>50.0</td>\n",
       "      <td>-10.0</td>\n",
       "      <td>-2.0</td>\n",
       "      <td>6.0</td>\n",
       "      <td>-2.0</td>\n",
       "      <td>0.5</td>\n",
       "      <td>3.0</td>\n",
       "      <td>For females that are the same age to 2 years y...</td>\n",
       "    </tr>\n",
       "  </tbody>\n",
       "</table>\n",
       "</div>"
      ],
      "text/plain": [
       "   gender      identity    age  min_age  mean_age  max_age  min_willing  \\\n",
       "0    Male  Heterosexual  26-29     26.0      27.5     29.0         -5.0   \n",
       "1    Male  Heterosexual    30+     30.0      40.0     50.0        -10.0   \n",
       "2    Male  Heterosexual    30+     30.0      40.0     50.0        -30.0   \n",
       "3  Female  Heterosexual  23-25     23.0      24.0     25.0         -2.0   \n",
       "4    Male  Heterosexual    30+     30.0      40.0     50.0        -10.0   \n",
       "\n",
       "   mean_willing  max_willing  min_prefer  mean_prefer  max_prefer  \\\n",
       "0          -1.0          3.0        -2.0         -1.0         0.0   \n",
       "1          -5.0          0.0       -10.0         -5.0         0.0   \n",
       "2           0.0         30.0       -30.0          0.0        30.0   \n",
       "3           0.5          3.0         0.0          1.5         3.0   \n",
       "4          -2.0          6.0        -2.0          0.5         3.0   \n",
       "\n",
       "                                              reason  \n",
       "0                                 Similar maturity.   \n",
       "1       kids, maturity level is more similar to mine  \n",
       "2  10+ younger- Sugarbaby/eyecandy, 5-10 younger ...  \n",
       "3                         Like to taken care off lol  \n",
       "4  For females that are the same age to 2 years y...  "
      ]
     },
     "execution_count": 9,
     "metadata": {},
     "output_type": "execute_result"
    }
   ],
   "source": [
    "# Get some weird NA columns, so just drop them\n",
    "print('Before dropping invalid values: {}'.format(df.shape))\n",
    "df = df.dropna(axis=0, how='any')\n",
    "print('After dropping invalid values: {}'.format(df.shape))\n",
    "df.head()"
   ]
  },
  {
   "cell_type": "markdown",
   "metadata": {},
   "source": [
    "## Demographic distributions\n",
    "\n",
    "The survey actually looks relatively balanced for gender identity considering how biased the sampling was...\n",
    "\n",
    "\n",
    "(of course than `Other` which would require more sophisticated methodology)"
   ]
  },
  {
   "cell_type": "code",
   "execution_count": 10,
   "metadata": {},
   "outputs": [
    {
     "data": {
      "image/png": "[encoded data removed]",
      "text/plain": [
       "<Figure size 432x288 with 1 Axes>"
      ]
     },
     "metadata": {
      "needs_background": "light"
     },
     "output_type": "display_data"
    }
   ],
   "source": [
    "sns.countplot(data=df, x='gender');"
   ]
  },
  {
   "cell_type": "markdown",
   "metadata": {},
   "source": [
    "It's fairly unbalanced for sexual identity, but that was always going to be hard with a random friend sample..."
   ]
  },
  {
   "cell_type": "code",
   "execution_count": 11,
   "metadata": {},
   "outputs": [
    {
     "data": {
      "image/png": "[encoded data removed]",
      "text/plain": [
       "<Figure size 432x288 with 1 Axes>"
      ]
     },
     "metadata": {
      "needs_background": "light"
     },
     "output_type": "display_data"
    }
   ],
   "source": [
    "sns.countplot(data=df, x='identity');"
   ]
  },
  {
   "cell_type": "markdown",
   "metadata": {},
   "source": [
    "And we have a nice bell curve for age...\n",
    "\n",
    "Excercise left to the reader: *If you are 27 years old, do the ages of your friends follow a normal distribution?*"
   ]
  },
  {
   "cell_type": "code",
   "execution_count": 12,
   "metadata": {},
   "outputs": [
    {
     "data": {
      "image/png": "[encoded data removed]",
      "text/plain": [
       "<Figure size 432x288 with 1 Axes>"
      ]
     },
     "metadata": {
      "needs_background": "light"
     },
     "output_type": "display_data"
    }
   ],
   "source": [
    "sns.countplot(data=df, x='age', order=['18-22', '23-25', '26-29', '30+']);"
   ]
  },
  {
   "cell_type": "markdown",
   "metadata": {},
   "source": [
    "## Basic Results\n",
    "\n",
    "And the moment everyone was waiting for: THE DISTRIBUTION OF PREFERENCES!!!\n",
    "\n",
    "(with boundaries provided by https://www.explainxkcd.com/wiki/index.php/314:_Dating_Pools)\n",
    "\n",
    "### Willing to Date\n",
    "\n",
    "First, what ranges are people **WILLING** to date"
   ]
  },
  {
   "cell_type": "code",
   "execution_count": 13,
   "metadata": {},
   "outputs": [
    {
     "data": {
      "image/png": "[encoded data removed]",
      "text/plain": [
       "<Figure size 864x864 with 1 Axes>"
      ]
     },
     "metadata": {
      "needs_background": "light"
     },
     "output_type": "display_data"
    }
   ],
   "source": [
    "# Work out the xkcd boundaries\n",
    "x_age = np.linspace(15, 55, 100)\n",
    "y_lower = x_age/2.0 + 7.0\n",
    "y_upper = (x_age - 7.0)*2.0\n",
    "\n",
    "# Plot the survey responses on a scatter\n",
    "x = df['mean_age'] + (np.random.rand(df.shape[0], ) - 0.5)*3  # With some jitter to see the points\n",
    "xerr = (x-df['min_age'], df['max_age']-x)\n",
    "\n",
    "y = df['mean_willing'] + x\n",
    "yerr = (np.abs(df['min_willing']), df['max_willing'])\n",
    "\n",
    "fig, ax = plt.subplots(nrows=1, ncols=1, figsize=(12, 12))\n",
    "ax.errorbar(x, y, xerr=xerr, yerr=yerr, fmt='o')\n",
    "ax.plot(x_age, y_lower, '--k')\n",
    "ax.plot(x_age, y_upper, '--k')\n",
    "ax.set_xlim([15, 55])\n",
    "ax.set_ylim([15, 55])\n",
    "ax.set_xlabel('Respondent age range')\n",
    "ax.set_ylabel('Willing to date age range')\n",
    "ax.set_title('Age respondents willing to date');"
   ]
  },
  {
   "cell_type": "markdown",
   "metadata": {},
   "source": [
    "So in terms of willing to date, it looks like the *half your age plus seven* rule is:\n",
    "\n",
    "1. Too young when you're in the 18-25 bin (this group is willing to date partners their own age or older)\n",
    "2. Basically correct in the 26-29 bin (this group is only willing to date a partner within the age that the rule predicts)\n",
    "3. Too old when you're in the 30+ bin (this group is willing to date partners their own age or younger)\n",
    "\n",
    "The 30+ group is hard to call, because it's sensitive to where I set the outer bound. For instance, if everyone who checked 30+ is under 35 (the analysis assumes under 50), we still skew younger, but maybe don't violate the lower bound quite so much.\n",
    "\n",
    "Similarly, a lot of the variation is driven by what more than 10 years younger (I assume 10 to 30 years younger, which in some cases gets icky to think about), and what more than 10 years older (again 10 to 30 years older) means. If you move those ranges around, you get different answers"
   ]
  },
  {
   "cell_type": "markdown",
   "metadata": {},
   "source": [
    "### Prefer to Date\n",
    "\n",
    "What ranges do people claim that they would **PREFER** to date"
   ]
  },
  {
   "cell_type": "code",
   "execution_count": 14,
   "metadata": {},
   "outputs": [
    {
     "data": {
      "image/png": "[encoded data removed]",
      "text/plain": [
       "<Figure size 864x864 with 1 Axes>"
      ]
     },
     "metadata": {
      "needs_background": "light"
     },
     "output_type": "display_data"
    }
   ],
   "source": [
    "# Plot the survey responses on a scatter\n",
    "x = df['mean_age'] + (np.random.rand(df.shape[0], ) - 0.5)*3  # With some jitter to see the points\n",
    "xerr = (x-df['min_age'], df['max_age']-x)\n",
    "\n",
    "y = df['mean_prefer'] + x\n",
    "yerr = (np.abs(df['min_prefer']), df['max_prefer'])\n",
    "\n",
    "fig, ax = plt.subplots(nrows=1, ncols=1, figsize=(12, 12))\n",
    "ax.errorbar(x, y, xerr=xerr, yerr=yerr, fmt='o')\n",
    "ax.plot(x_age, y_lower, '--k')\n",
    "ax.plot(x_age, y_upper, '--k')\n",
    "ax.set_xlim([15, 55])\n",
    "ax.set_ylim([15, 55])\n",
    "ax.set_xlabel('Respondent age range')\n",
    "ax.set_ylabel('Prefer to date age range')\n",
    "ax.set_title('Age respondents prefer to date');"
   ]
  },
  {
   "cell_type": "markdown",
   "metadata": {},
   "source": [
    "The trends around preference are similar:\n",
    "\n",
    "1. 18-25 year olds prefer their own age or a bit older\n",
    "2. 26-29 year olds prefer their own age (or maybe a little younger)\n",
    "3. 30+ prefer a partner their own age or younger\n",
    "\n",
    "Same caveats about ranges on the +/- boundaries. You have to make an assumption to draw the plots, but those assumptions impact the results"
   ]
  },
  {
   "cell_type": "markdown",
   "metadata": {},
   "source": [
    "## Yeah, sure, but can you do stats at it?\n",
    "\n",
    "You bet your boots we can!\n",
    "\n",
    "### Gender Identity\n",
    "\n",
    "Is there a difference based on gender identity?"
   ]
  },
  {
   "cell_type": "code",
   "execution_count": 15,
   "metadata": {},
   "outputs": [
    {
     "name": "stdout",
     "output_type": "stream",
     "text": [
      "Willing P-value: 0.0012\n",
      "Prefer P-value: 0.0366\n"
     ]
    },
    {
     "data": {
      "image/png": "[encoded data removed]",
      "text/plain": [
       "<Figure size 1152x576 with 2 Axes>"
      ]
     },
     "metadata": {
      "needs_background": "light"
     },
     "output_type": "display_data"
    }
   ],
   "source": [
    "# Split up the data by group\n",
    "values_willing = {}\n",
    "values_prefer = {}\n",
    "for group in np.unique(df['gender']):\n",
    "    mask = df['gender'] == group\n",
    "    \n",
    "    values_willing[group] = df['mean_willing'].values[mask]\n",
    "    values_prefer[group] = df['mean_prefer'].values[mask]\n",
    "\n",
    "print('Willing P-value: {:0.4f}'.format(ttest_ind(values_willing['Male'], values_willing['Female'])[1]))\n",
    "print('Prefer P-value: {:0.4f}'.format(ttest_ind(values_prefer['Male'], values_prefer['Female'])[1]))\n",
    "\n",
    "fig, (ax1, ax2) = plt.subplots(1, 2, figsize=(16, 8), sharey=True)\n",
    "sns.boxplot(ax=ax1, data=df, x='gender', y='mean_willing')\n",
    "sns.boxplot(ax=ax2, data=df, x='gender', y='mean_prefer');"
   ]
  },
  {
   "cell_type": "markdown",
   "metadata": {},
   "source": [
    "So respondents who identify as male vs female have very significant differences in the mean age they are **WILLING** to date, and weaker, but still significant differences in the mean age they **PREFER** to date. Specifically, males appear to prefer a slightly younger partner, and females prefer a slightly older partner.\n",
    "\n",
    "Unfortunately, we don't have enough people who identify as other (n=3) in the survey to run the T-test, but they appear to have a neutral or very slightly younger trend to their preferences.\n",
    "\n",
    "(Also, for people who don't believe in T-tests, the Mann Whitney U-test is slightly more significant, although again we only have enough samples to run male vs female):"
   ]
  },
  {
   "cell_type": "code",
   "execution_count": 16,
   "metadata": {},
   "outputs": [
    {
     "name": "stdout",
     "output_type": "stream",
     "text": [
      "Willing P-value: 0.0000000985\n",
      "Prefer P-value: 0.0000000990\n"
     ]
    }
   ],
   "source": [
    "print('Willing P-value: {:0.10f}'.format(mannwhitneyu(values_willing['Male'],\n",
    "                                                      values_willing['Female'])[1]))\n",
    "print('Prefer P-value: {:0.10f}'.format(mannwhitneyu(values_prefer['Male'],\n",
    "                                                     values_prefer['Female'])[1]))"
   ]
  },
  {
   "cell_type": "markdown",
   "metadata": {},
   "source": [
    "### Sexual Identity\n",
    "\n",
    "How about sexual identity?"
   ]
  },
  {
   "cell_type": "code",
   "execution_count": 17,
   "metadata": {},
   "outputs": [
    {
     "data": {
      "image/png": "[encoded data removed]",
      "text/plain": [
       "<Figure size 1152x576 with 2 Axes>"
      ]
     },
     "metadata": {
      "needs_background": "light"
     },
     "output_type": "display_data"
    }
   ],
   "source": [
    "# Plot by sexual identity\n",
    "fig, (ax1, ax2) = plt.subplots(1, 2, figsize=(16, 8), sharey=True)\n",
    "sns.boxplot(ax=ax1, data=df, x='identity', y='mean_willing')\n",
    "sns.boxplot(ax=ax2, data=df, x='identity', y='mean_prefer');"
   ]
  },
  {
   "cell_type": "markdown",
   "metadata": {},
   "source": [
    "We don't really have enough samples in the non-Heterosexual groups to dig into these trends, but what if we collapse the groups into Heterosexual and LGBTQ+?"
   ]
  },
  {
   "cell_type": "code",
   "execution_count": 18,
   "metadata": {},
   "outputs": [
    {
     "name": "stdout",
     "output_type": "stream",
     "text": [
      "Willing P-value: 0.1364\n",
      "Prefer P-value: 0.1483\n"
     ]
    },
    {
     "data": {
      "image/png": "[encoded data removed]",
      "text/plain": [
       "<Figure size 1152x576 with 2 Axes>"
      ]
     },
     "metadata": {
      "needs_background": "light"
     },
     "output_type": "display_data"
    }
   ],
   "source": [
    "df['identity_merge'] = df['identity'].map({'Heterosexual': 'Heterosexual',\n",
    "                                           'Homosexual': 'LGBTQ+',\n",
    "                                           'Bisexual': 'LGBTQ+',\n",
    "                                           'Other': 'LGBTQ+'})\n",
    "\n",
    "# Split up the data by group\n",
    "values_willing = {}\n",
    "values_prefer = {}\n",
    "for group in np.unique(df['identity_merge']):\n",
    "    mask = df['identity_merge'] == group\n",
    "    \n",
    "    values_willing[group] = df['mean_willing'].values[mask]\n",
    "    values_prefer[group] = df['mean_prefer'].values[mask]\n",
    "\n",
    "print('Willing P-value: {:0.4f}'.format(ttest_ind(values_willing['Heterosexual'], values_willing['LGBTQ+'])[1]))\n",
    "print('Prefer P-value: {:0.4f}'.format(ttest_ind(values_prefer['Heterosexual'], values_prefer['LGBTQ+'])[1]))\n",
    "\n",
    "# Plot by sexual identity\n",
    "fig, (ax1, ax2) = plt.subplots(1, 2, figsize=(16, 8), sharey=True)\n",
    "sns.boxplot(ax=ax1, data=df, x='identity_merge', y='mean_willing')\n",
    "sns.boxplot(ax=ax2, data=df, x='identity_merge', y='mean_prefer');\n"
   ]
  },
  {
   "cell_type": "markdown",
   "metadata": {},
   "source": [
    "Looks like not much difference. There's a slight trend towards the non-Heterosexual group preferring younger partners, but it's very much not significantly different."
   ]
  },
  {
   "cell_type": "markdown",
   "metadata": {},
   "source": [
    "### Age Group\n",
    "\n",
    "Finally, did those trends we made wild claims about earlier hold up in the age data?"
   ]
  },
  {
   "cell_type": "code",
   "execution_count": 19,
   "metadata": {},
   "outputs": [
    {
     "data": {
      "image/png": "[encoded data removed]",
      "text/plain": [
       "<Figure size 1152x576 with 2 Axes>"
      ]
     },
     "metadata": {
      "needs_background": "light"
     },
     "output_type": "display_data"
    }
   ],
   "source": [
    "# Plot by sexual identity\n",
    "fig, (ax1, ax2) = plt.subplots(1, 2, figsize=(16, 8), sharey=True)\n",
    "sns.boxplot(ax=ax1, data=df, x='mean_age', y='mean_willing')\n",
    "sns.boxplot(ax=ax2, data=df, x='mean_age', y='mean_prefer')\n",
    "\n",
    "ax1.set_xticklabels(['18-22', '23-25', '26-29', '30+'])\n",
    "ax2.set_xticklabels(['18-22', '23-25', '26-29', '30+']);"
   ]
  },
  {
   "cell_type": "markdown",
   "metadata": {},
   "source": [
    "Let's just blindly do all the comparisons and see what happens (this is the proper way to do stats and definitely not a bad idea...)"
   ]
  },
  {
   "cell_type": "code",
   "execution_count": 20,
   "metadata": {},
   "outputs": [
    {
     "name": "stdout",
     "output_type": "stream",
     "text": [
      "18-22 vs 23-25\n",
      "Willing P-value: 5.9217\n",
      "Prefer P-value: 2.3621\n",
      "\n",
      "18-22 vs 26-29\n",
      "Willing P-value: 0.1991\n",
      "Prefer P-value: 0.6719\n",
      "\n",
      "18-22 vs 30+\n",
      "Willing P-value: 0.0431\n",
      "Prefer P-value: 0.0864\n",
      "\n",
      "23-25 vs 26-29\n",
      "Willing P-value: 0.0153\n",
      "Prefer P-value: 1.3304\n",
      "\n",
      "23-25 vs 30+\n",
      "Willing P-value: 0.0012\n",
      "Prefer P-value: 0.0126\n",
      "\n",
      "26-29 vs 30+\n",
      "Willing P-value: 0.0004\n",
      "Prefer P-value: 0.0056\n",
      "\n"
     ]
    }
   ],
   "source": [
    "# Split up the data by group\n",
    "values_willing = {}\n",
    "values_prefer = {}\n",
    "for group in np.unique(df['age']):\n",
    "    mask = df['age'] == group\n",
    "    \n",
    "    values_willing[group] = df['mean_willing'].values[mask]\n",
    "    values_prefer[group] = df['mean_prefer'].values[mask]\n",
    "\n",
    "# Blindly try every combination, with the power of itertools\n",
    "num_comps = 6  # Correct for multiple comparisons with a brute force multiplier (Bonferroni correction)\n",
    "for (group1, group2) in itertools.combinations(np.unique(df['age']), r=2):\n",
    "    print('{} vs {}'.format(group1, group2))\n",
    "    print('Willing P-value: {:0.4f}'.format(ttest_ind(values_willing[group1], values_willing[group2])[1]*num_comps))\n",
    "    print('Prefer P-value: {:0.4f}'.format(ttest_ind(values_prefer[group1], values_prefer[group2])[1]*num_comps))\n",
    "    print('')"
   ]
  },
  {
   "cell_type": "markdown",
   "metadata": {},
   "source": [
    "Neat, we can kind of see the trend we were making wild, hand-wavey claims about earlier:\n",
    "\n",
    "1. 18-22 year olds and 23-25 year olds look very similar (they are willing to date, and prefer slightly older partners)\n",
    "2. Somewhere between 25 and 29, respondents start to report a willingness to date younger partners\n",
    "3. The 30+ group has a strong and distinct bias towards younger partners that survives even a very cheesy correction for multiple comparisons"
   ]
  },
  {
   "cell_type": "code",
   "execution_count": null,
   "metadata": {},
   "outputs": [],
   "source": []
  }
 ],
 "metadata": {
  "kernelspec": {
   "display_name": "Python 3",
   "language": "python",
   "name": "python3"
  },
  "language_info": {
   "codemirror_mode": {
    "name": "ipython",
    "version": 3
   },
   "file_extension": ".py",
   "mimetype": "text/x-python",
   "name": "python",
   "nbconvert_exporter": "python",
   "pygments_lexer": "ipython3",
   "version": "3.7.3"
  }
 },
 "nbformat": 4,
 "nbformat_minor": 2
}

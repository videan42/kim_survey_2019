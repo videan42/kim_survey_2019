{
 "cells": [
  {
   "cell_type": "markdown",
   "metadata": {},
   "source": [
    "# Analyze the Survey Data\n",
    "\n",
    "Analyze the survey data in `survey.csv` using the power of PYTHON!!\n",
    "\n",
    "Also STATISTICS!!\n",
    "\n",
    "And maybe some other made up stuff"
   ]
  },
  {
   "cell_type": "markdown",
   "metadata": {},
   "source": [
    "## Installing\n",
    "\n",
    "In a clean `python3` environment, run:"
   ]
  },
  {
   "cell_type": "code",
   "execution_count": null,
   "metadata": {},
   "outputs": [],
   "source": [
    "!pip install -r requirements.txt"
   ]
  },
  {
   "cell_type": "markdown",
   "metadata": {},
   "source": [
    "Imports and etc"
   ]
  },
  {
   "cell_type": "code",
   "execution_count": null,
   "metadata": {},
   "outputs": [],
   "source": [
    "import numpy as np\n",
    "\n",
    "import pandas as pd\n",
    "\n",
    "import seaborn as sns\n",
    "\n",
    "import matplotlib.pyplot as plt"
   ]
  },
  {
   "cell_type": "markdown",
   "metadata": {},
   "source": [
    "## Loading the Raw Data\n",
    "\n",
    "Load the data"
   ]
  },
  {
   "cell_type": "code",
   "execution_count": null,
   "metadata": {},
   "outputs": [],
   "source": [
    "df = pd.read_csv(\"survey.csv\")"
   ]
  },
  {
   "cell_type": "code",
   "execution_count": null,
   "metadata": {},
   "outputs": [],
   "source": [
    "df.head()"
   ]
  },
  {
   "cell_type": "markdown",
   "metadata": {},
   "source": [
    "## Data cleaning and normalization\n",
    "\n",
    "Alias categories for easier plotting"
   ]
  },
  {
   "cell_type": "code",
   "execution_count": null,
   "metadata": {},
   "outputs": [],
   "source": [
    "df['gender'] = df['Gender identity?']\n",
    "df['identity'] = df['What is your sexual identity?']\n",
    "df['age'] = df['What is your age?']\n",
    "df['willing_to_date'] = df['What is the age range you are willing to date a member of your preferred sex (MPS)? (Check all that apply)']\n",
    "df['prefer_to_date'] = df['What is the age range you would PREFER/WANT to date?']\n",
    "df['reason'] = df['For each of the age ranges you checked off that you would PREFER to date, please provide a short reason why you would date that age range']\n",
    "\n",
    "df = df[['gender', 'identity', 'age', 'willing_to_date', 'prefer_to_date', 'reason']]"
   ]
  },
  {
   "cell_type": "code",
   "execution_count": null,
   "metadata": {},
   "outputs": [],
   "source": [
    "df.head()"
   ]
  },
  {
   "cell_type": "markdown",
   "metadata": {},
   "source": [
    "Encode the category ranges to numeric values for ease of analysis"
   ]
  },
  {
   "cell_type": "code",
   "execution_count": null,
   "metadata": {},
   "outputs": [],
   "source": [
    "# Map the long category names to numeric values\n",
    "preferred_date_map = {\n",
    "    '10+ years older': (10, 99),\n",
    "    '10+ years younger': (-99, -10),\n",
    "    '3 years older to same age': (0, 3),\n",
    "    '3 years older to same old': (0, 3),\n",
    "    '3-5 years younger': (-5, -3),\n",
    "    '3-6 years older': (3, 6),\n",
    "    '5-10 years younger': (-10, -5),\n",
    "    '7-10 years older': (7, 10),\n",
    "    'Same age to 2 years younger': (-2, 0),\n",
    "}\n",
    "\n",
    "def encode_ranges(cat: str) -> tuple:\n",
    "    \"\"\" Encode the range checkboxes into a bounding range \"\"\"\n",
    "    if cat in (None, np.nan):\n",
    "        return pd.Series({'min': np.nan, 'max': np.nan})\n",
    "    ranges = np.array([preferred_date_map[c] for c in cat.split(';') if c in preferred_date_map])\n",
    "    return pd.Series({'min': np.min(ranges), 'max': np.max(ranges)})\n",
    "    \n",
    "\n",
    "# Encode the checkboxes into ranges\n",
    "willing_range = df['willing_to_date'].apply(encode_ranges)\n",
    "df['min_willing'] = willing_range['min']\n",
    "df['max_willing'] = willing_range['max']\n",
    "\n",
    "prefer_range = df['prefer_to_date'].apply(encode_ranges)\n",
    "df['min_prefer'] = prefer_range['min']\n",
    "df['max_prefer'] = prefer_range['max']\n",
    "\n",
    "# Encode the ages into ranges\n",
    "age_map = {\n",
    "    '18-22': (18, 22),\n",
    "    '23-25': (23, 25),\n",
    "    '26-29': (26, 29),\n",
    "    '30+': (30, 99),\n",
    "}\n",
    "age_map = {k: pd.Series({'min': v0, 'max': v1})\n",
    "           for k, (v0, v1) in age_map.items()}\n",
    "age_range = df['age'].apply(lambda x: age_map[x])\n",
    "df['min_age'] = age_range['min']\n",
    "df['max_age'] = age_range['max']\n",
    "\n",
    "# Drop the unused columns again\n",
    "df = df[['gender', 'identity', 'age', 'min_age', 'max_age', 'min_willing', 'max_willing', 'min_prefer', 'max_prefer', 'reason']]\n"
   ]
  },
  {
   "cell_type": "code",
   "execution_count": null,
   "metadata": {},
   "outputs": [],
   "source": [
    "# Get some weird NA columns, so just drop them\n",
    "print('Before dropping invalid values: {}'.format(df.shape))\n",
    "df = df.dropna(axis=0, how='any')\n",
    "print('After dropping invalid values: {}'.format(df.shape))\n",
    "df.head()"
   ]
  },
  {
   "cell_type": "markdown",
   "metadata": {},
   "source": [
    "## Demographic distributions\n",
    "\n",
    "The survey actually looks relatively balanced for gender identity considering how biased the sampling was...\n",
    "\n",
    "\n",
    "(of course than `Other/Non binary` which would require more sophisticated methodology)"
   ]
  },
  {
   "cell_type": "code",
   "execution_count": null,
   "metadata": {},
   "outputs": [],
   "source": [
    "sns.countplot(data=df, x='gender');"
   ]
  },
  {
   "cell_type": "markdown",
   "metadata": {},
   "source": [
    "It's fairly unbalanced for sexual identity, but that was always going to be hard with a random friend sample..."
   ]
  },
  {
   "cell_type": "code",
   "execution_count": null,
   "metadata": {},
   "outputs": [],
   "source": [
    "sns.countplot(data=df, x='identity');"
   ]
  },
  {
   "cell_type": "markdown",
   "metadata": {},
   "source": [
    "And we have a nice bell curve for age...\n",
    "\n",
    "Excercise left to the reader: *If you are 27 years old, do the ages of your friends follow a normal distribution?*"
   ]
  },
  {
   "cell_type": "code",
   "execution_count": null,
   "metadata": {},
   "outputs": [],
   "source": [
    "sns.countplot(data=df, x='age', order=['18-22', '23-25', '26-29', '30+']);"
   ]
  },
  {
   "cell_type": "code",
   "execution_count": null,
   "metadata": {},
   "outputs": [],
   "source": []
  }
 ],
 "metadata": {
  "language_info": {
   "name": "python",
   "pygments_lexer": "ipython3"
  }
 },
 "nbformat": 4,
 "nbformat_minor": 2
}

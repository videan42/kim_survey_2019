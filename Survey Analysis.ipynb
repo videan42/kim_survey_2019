{
 "cells": [
  {
   "cell_type": "markdown",
   "metadata": {},
   "source": [
    "# Analyze the Survey Data\n",
    "\n",
    "Analyze the survey data in `survey.csv` using the power of PYTHON!!\n",
    "\n",
    "Also STATISTICS!!\n",
    "\n",
    "And maybe some other made up stuff"
   ]
  },
  {
   "cell_type": "markdown",
   "metadata": {},
   "source": [
    "## Installing\n",
    "\n",
    "In a clean `python3` environment, run:"
   ]
  },
  {
   "cell_type": "code",
   "execution_count": null,
   "metadata": {},
   "outputs": [],
   "source": [
    "!pip install -r requirements.txt"
   ]
  },
  {
   "cell_type": "markdown",
   "metadata": {},
   "source": [
    "Imports and etc"
   ]
  },
  {
   "cell_type": "code",
   "execution_count": null,
   "metadata": {},
   "outputs": [],
   "source": [
    "# Standard Lib\n",
    "import itertools\n",
    "\n",
    "# 3rd party\n",
    "import numpy as np\n",
    "\n",
    "import pandas as pd\n",
    "\n",
    "import seaborn as sns\n",
    "\n",
    "import matplotlib.pyplot as plt\n",
    "\n",
    "from scipy.stats import mannwhitneyu, ttest_ind\n"
   ]
  },
  {
   "cell_type": "markdown",
   "metadata": {},
   "source": [
    "## Loading the Raw Data\n",
    "\n",
    "Load the data"
   ]
  },
  {
   "cell_type": "code",
   "execution_count": null,
   "metadata": {},
   "outputs": [],
   "source": [
    "df = pd.read_csv(\"survey.csv\")"
   ]
  },
  {
   "cell_type": "code",
   "execution_count": null,
   "metadata": {},
   "outputs": [],
   "source": [
    "df.head()"
   ]
  },
  {
   "cell_type": "markdown",
   "metadata": {},
   "source": [
    "## Data cleaning and normalization\n",
    "\n",
    "Alias categories for easier plotting"
   ]
  },
  {
   "cell_type": "code",
   "execution_count": null,
   "metadata": {},
   "outputs": [],
   "source": [
    "df['gender'] = df['Gender identity?']\n",
    "df['identity'] = df['What is your sexual identity?']\n",
    "df['age'] = df['What is your age?']\n",
    "df['willing_to_date'] = df['What is the age range you are willing to date a member of your preferred sex (MPS)? (Check all that apply)']\n",
    "df['prefer_to_date'] = df['What is the age range you would PREFER/WANT to date?']\n",
    "df['reason'] = df['For each of the age ranges you checked off that you would PREFER to date, please provide a short reason why you would date that age range']\n",
    "\n",
    "df = df[['gender', 'identity', 'age', 'willing_to_date', 'prefer_to_date', 'reason']]"
   ]
  },
  {
   "cell_type": "code",
   "execution_count": null,
   "metadata": {},
   "outputs": [],
   "source": [
    "df.head()"
   ]
  },
  {
   "cell_type": "markdown",
   "metadata": {},
   "source": [
    "## Parameters that really mess with the analysis\n",
    "\n",
    "These are the parameters that really shape how the analysis works\n",
    "\n"
   ]
  },
  {
   "cell_type": "code",
   "execution_count": null,
   "metadata": {},
   "outputs": [],
   "source": [
    "# The maximum value that people meant by selecting \"30+ years old\"\n",
    "max_age = 50  # in years - Maximum age in the survey\n",
    "\n",
    "# The minimum value that people meant by selecting \"10+ years younger\"\n",
    "max_younger = -30  # in years - Minimum age difference in the survey\n",
    "\n",
    "# The maximum value that people meant by selecting \"10+ years younger\"\n",
    "max_older = 30  # in years - Maximum age difference in the survey"
   ]
  },
  {
   "cell_type": "markdown",
   "metadata": {},
   "source": [
    "Encode the category ranges to numeric values for ease of analysis"
   ]
  },
  {
   "cell_type": "code",
   "execution_count": null,
   "metadata": {},
   "outputs": [],
   "source": [
    "# Map the long category names to numeric values\n",
    "preferred_date_map = {\n",
    "    '10+ years older': (10, max_older),\n",
    "    '10+ years younger': (max_younger, -10),\n",
    "    '3 years older to same age': (0, 3),\n",
    "    '3 years older to same old': (0, 3),\n",
    "    '3-5 years younger': (-5, -3),\n",
    "    '3-6 years older': (3, 6),\n",
    "    '5-10 years younger': (-10, -5),\n",
    "    '7-10 years older': (7, 10),\n",
    "    'Same age to 2 years younger': (-2, 0),\n",
    "}\n",
    "\n",
    "def encode_ranges(cat: str) -> tuple:\n",
    "    \"\"\" Encode the range checkboxes into a bounding range \"\"\"\n",
    "    if cat in (None, np.nan):\n",
    "        return pd.Series({'min': np.nan, 'mean': np.nan, 'max': np.nan})\n",
    "    ranges = np.array([preferred_date_map[c] for c in cat.split(';') if c in preferred_date_map])\n",
    "    min_range = np.min(ranges)\n",
    "    max_range = np.max(ranges)\n",
    "    mean_range = np.mean([min_range, max_range])\n",
    "    \n",
    "    return pd.Series({'min': min_range, 'mean': mean_range, 'max': max_range})\n",
    "    \n",
    "\n",
    "# Encode the checkboxes into ranges\n",
    "willing_range = df['willing_to_date'].apply(encode_ranges)\n",
    "df['min_willing'] = willing_range['min']\n",
    "df['mean_willing'] = willing_range['mean']\n",
    "df['max_willing'] = willing_range['max']\n",
    "\n",
    "prefer_range = df['prefer_to_date'].apply(encode_ranges)\n",
    "df['min_prefer'] = prefer_range['min']\n",
    "df['mean_prefer'] = prefer_range['mean']\n",
    "df['max_prefer'] = prefer_range['max']\n",
    "\n",
    "# Encode the ages into ranges\n",
    "# Label to min, mean, max\n",
    "age_map = {\n",
    "    '18-22': (18, 20, 22),\n",
    "    '23-25': (23, 24, 25),\n",
    "    '26-29': (26, 27.5, 29),\n",
    "    '30+': (30, 40, max_age),\n",
    "}\n",
    "age_map = {k: pd.Series({'min': v0, 'mean': v1, 'max': v2})\n",
    "           for k, (v0, v1, v2) in age_map.items()}\n",
    "age_range = df['age'].apply(lambda x: age_map[x])\n",
    "df['min_age'] = age_range['min']\n",
    "df['mean_age'] = age_range['mean']\n",
    "df['max_age'] = age_range['max']\n",
    "\n",
    "# Drop the unused columns again\n",
    "df = df[['gender', 'identity',\n",
    "         'age', 'min_age', 'mean_age', 'max_age',\n",
    "         'min_willing', 'mean_willing', 'max_willing',\n",
    "         'min_prefer', 'mean_prefer', 'max_prefer',\n",
    "         'reason']]\n"
   ]
  },
  {
   "cell_type": "code",
   "execution_count": null,
   "metadata": {},
   "outputs": [],
   "source": [
    "# Get some weird NA columns, so just drop them\n",
    "print('Before dropping invalid values: {}'.format(df.shape))\n",
    "df = df.dropna(axis=0, how='any')\n",
    "print('After dropping invalid values: {}'.format(df.shape))\n",
    "df.head()"
   ]
  },
  {
   "cell_type": "markdown",
   "metadata": {},
   "source": [
    "## Demographic distributions\n",
    "\n",
    "The survey actually looks relatively balanced for gender identity considering how biased the sampling was...\n",
    "\n",
    "\n",
    "(of course than `Other` which would require more sophisticated methodology)"
   ]
  },
  {
   "cell_type": "code",
   "execution_count": null,
   "metadata": {},
   "outputs": [],
   "source": [
    "sns.countplot(data=df, x='gender');"
   ]
  },
  {
   "cell_type": "markdown",
   "metadata": {},
   "source": [
    "It's fairly unbalanced for sexual identity, but that was always going to be hard with a random friend sample..."
   ]
  },
  {
   "cell_type": "code",
   "execution_count": null,
   "metadata": {},
   "outputs": [],
   "source": [
    "sns.countplot(data=df, x='identity');"
   ]
  },
  {
   "cell_type": "markdown",
   "metadata": {},
   "source": [
    "And we have a nice bell curve for age...\n",
    "\n",
    "Excercise left to the reader: *If you are 27 years old, do the ages of your friends follow a normal distribution?*"
   ]
  },
  {
   "cell_type": "code",
   "execution_count": null,
   "metadata": {},
   "outputs": [],
   "source": [
    "sns.countplot(data=df, x='age', order=['18-22', '23-25', '26-29', '30+']);"
   ]
  },
  {
   "cell_type": "markdown",
   "metadata": {},
   "source": [
    "## Basic Results\n",
    "\n",
    "And the moment everyone was waiting for: THE DISTRIBUTION OF PREFERENCES!!!\n",
    "\n",
    "(with boundaries provided by https://www.explainxkcd.com/wiki/index.php/314:_Dating_Pools)\n",
    "\n",
    "### Willing to Date\n",
    "\n",
    "First, what ranges are people **WILLING** to date"
   ]
  },
  {
   "cell_type": "code",
   "execution_count": null,
   "metadata": {},
   "outputs": [],
   "source": [
    "# Work out the xkcd boundaries\n",
    "x_age = np.linspace(15, 55, 100)\n",
    "y_lower = x_age/2.0 + 7.0\n",
    "y_upper = (x_age - 7.0)*2.0\n",
    "\n",
    "# Plot the survey responses on a scatter\n",
    "x = df['mean_age'] + (np.random.rand(df.shape[0], ) - 0.5)*3  # With some jitter to see the points\n",
    "xerr = (x-df['min_age'], df['max_age']-x)\n",
    "\n",
    "y = df['mean_willing'] + x\n",
    "yerr = (np.abs(df['min_willing']), df['max_willing'])\n",
    "\n",
    "fig, ax = plt.subplots(nrows=1, ncols=1, figsize=(12, 12))\n",
    "ax.errorbar(x, y, xerr=xerr, yerr=yerr, fmt='o')\n",
    "ax.plot(x_age, y_lower, '--k')\n",
    "ax.plot(x_age, y_upper, '--k')\n",
    "ax.set_xlim([15, 55])\n",
    "ax.set_ylim([15, 55])\n",
    "ax.set_xlabel('Respondent age range')\n",
    "ax.set_ylabel('Willing to date age range')\n",
    "ax.set_title('Age respondents willing to date');"
   ]
  },
  {
   "cell_type": "markdown",
   "metadata": {},
   "source": [
    "So in terms of willing to date, it looks like the *half your age plus seven* rule is:\n",
    "\n",
    "1. Too young when you're in the 18-25 bin (this group is willing to date partners their own age or older)\n",
    "2. Basically correct in the 26-29 bin (this group is only willing to date a partner within the age that the rule predicts)\n",
    "3. Too old when you're in the 30+ bin (this group is willing to date partners their own age or younger)\n",
    "\n",
    "The 30+ group is hard to call, because it's sensitive to where I set the outer bound. For instance, if everyone who checked 30+ is under 35 (the analysis assumes under 50), we still skew younger, but maybe don't violate the lower bound quite so much.\n",
    "\n",
    "Similarly, a lot of the variation is driven by what more than 10 years younger (I assume 10 to 30 years younger, which in some cases gets icky to think about), and what more than 10 years older (again 10 to 30 years older) means. If you move those ranges around, you get different answers"
   ]
  },
  {
   "cell_type": "markdown",
   "metadata": {},
   "source": [
    "### Prefer to Date\n",
    "\n",
    "What ranges do people claim that they would **PREFER** to date"
   ]
  },
  {
   "cell_type": "code",
   "execution_count": null,
   "metadata": {},
   "outputs": [],
   "source": [
    "# Plot the survey responses on a scatter\n",
    "x = df['mean_age'] + (np.random.rand(df.shape[0], ) - 0.5)*3  # With some jitter to see the points\n",
    "xerr = (x-df['min_age'], df['max_age']-x)\n",
    "\n",
    "y = df['mean_prefer'] + x\n",
    "yerr = (np.abs(df['min_prefer']), df['max_prefer'])\n",
    "\n",
    "fig, ax = plt.subplots(nrows=1, ncols=1, figsize=(12, 12))\n",
    "ax.errorbar(x, y, xerr=xerr, yerr=yerr, fmt='o')\n",
    "ax.plot(x_age, y_lower, '--k')\n",
    "ax.plot(x_age, y_upper, '--k')\n",
    "ax.set_xlim([15, 55])\n",
    "ax.set_ylim([15, 55])\n",
    "ax.set_xlabel('Respondent age range')\n",
    "ax.set_ylabel('Prefer to date age range')\n",
    "ax.set_title('Age respondents prefer to date');"
   ]
  },
  {
   "cell_type": "markdown",
   "metadata": {},
   "source": [
    "The trends around preference are similar:\n",
    "\n",
    "1. 18-25 year olds prefer their own age or a bit older\n",
    "2. 26-29 year olds prefer their own age (or maybe a little younger)\n",
    "3. 30+ prefer a partner their own age or younger\n",
    "\n",
    "Same caveats about ranges on the +/- boundaries. You have to make an assumption to draw the plots, but those assumptions impact the results"
   ]
  },
  {
   "cell_type": "markdown",
   "metadata": {},
   "source": [
    "## Yeah, sure, but can you do stats at it?\n",
    "\n",
    "You bet your boots we can!\n",
    "\n",
    "### Gender Identity\n",
    "\n",
    "Is there a difference based on gender identity?"
   ]
  },
  {
   "cell_type": "code",
   "execution_count": null,
   "metadata": {},
   "outputs": [],
   "source": [
    "# Split up the data by group\n",
    "values_willing = {}\n",
    "values_prefer = {}\n",
    "for group in np.unique(df['gender']):\n",
    "    mask = df['gender'] == group\n",
    "    \n",
    "    values_willing[group] = df['mean_willing'].values[mask]\n",
    "    values_prefer[group] = df['mean_prefer'].values[mask]\n",
    "\n",
    "print('Willing P-value: {:0.4f}'.format(ttest_ind(values_willing['Male'], values_willing['Female'])[1]))\n",
    "print('Prefer P-value: {:0.4f}'.format(ttest_ind(values_prefer['Male'], values_prefer['Female'])[1]))\n",
    "\n",
    "fig, (ax1, ax2) = plt.subplots(1, 2, figsize=(16, 8), sharey=True)\n",
    "sns.boxplot(ax=ax1, data=df, x='gender', y='mean_willing')\n",
    "sns.boxplot(ax=ax2, data=df, x='gender', y='mean_prefer');"
   ]
  },
  {
   "cell_type": "markdown",
   "metadata": {},
   "source": [
    "So respondents who identify as male vs female have very significant differences in the mean age they are **WILLING** to date, and weaker, but still significant differences in the mean age they **PREFER** to date. Specifically, males appear to prefer a slightly younger partner, and females prefer a slightly older partner.\n",
    "\n",
    "Unfortunately, we don't have enough people who identify as other (n=3) in the survey to run the T-test, but they appear to have a neutral or very slightly younger trend to their preferences.\n",
    "\n",
    "(Also, for people who don't believe in T-tests, the Mann Whitney U-test is slightly more significant, although again we only have enough samples to run male vs female):"
   ]
  },
  {
   "cell_type": "code",
   "execution_count": null,
   "metadata": {},
   "outputs": [],
   "source": [
    "print('Willing P-value: {:0.10f}'.format(mannwhitneyu(values_willing['Male'],\n",
    "                                                      values_willing['Female'])[1]))\n",
    "print('Prefer P-value: {:0.10f}'.format(mannwhitneyu(values_prefer['Male'],\n",
    "                                                     values_prefer['Female'])[1]))"
   ]
  },
  {
   "cell_type": "markdown",
   "metadata": {},
   "source": [
    "### Sexual Identity\n",
    "\n",
    "How about sexual identity?"
   ]
  },
  {
   "cell_type": "code",
   "execution_count": null,
   "metadata": {},
   "outputs": [],
   "source": [
    "# Plot by sexual identity\n",
    "fig, (ax1, ax2) = plt.subplots(1, 2, figsize=(16, 8), sharey=True)\n",
    "sns.boxplot(ax=ax1, data=df, x='identity', y='mean_willing')\n",
    "sns.boxplot(ax=ax2, data=df, x='identity', y='mean_prefer');"
   ]
  },
  {
   "cell_type": "markdown",
   "metadata": {},
   "source": [
    "We don't really have enough samples in the non-Heterosexual groups to dig into these trends, but what if we collapse the groups into Heterosexual and LGBTQ+?"
   ]
  },
  {
   "cell_type": "code",
   "execution_count": null,
   "metadata": {},
   "outputs": [],
   "source": [
    "df['identity_merge'] = df['identity'].map({'Heterosexual': 'Heterosexual',\n",
    "                                           'Homosexual': 'LGBTQ+',\n",
    "                                           'Bisexual': 'LGBTQ+',\n",
    "                                           'Other': 'LGBTQ+'})\n",
    "\n",
    "# Split up the data by group\n",
    "values_willing = {}\n",
    "values_prefer = {}\n",
    "for group in np.unique(df['identity_merge']):\n",
    "    mask = df['identity_merge'] == group\n",
    "    \n",
    "    values_willing[group] = df['mean_willing'].values[mask]\n",
    "    values_prefer[group] = df['mean_prefer'].values[mask]\n",
    "\n",
    "print('Willing P-value: {:0.4f}'.format(ttest_ind(values_willing['Heterosexual'], values_willing['LGBTQ+'])[1]))\n",
    "print('Prefer P-value: {:0.4f}'.format(ttest_ind(values_prefer['Heterosexual'], values_prefer['LGBTQ+'])[1]))\n",
    "\n",
    "# Plot by sexual identity\n",
    "fig, (ax1, ax2) = plt.subplots(1, 2, figsize=(16, 8), sharey=True)\n",
    "sns.boxplot(ax=ax1, data=df, x='identity_merge', y='mean_willing')\n",
    "sns.boxplot(ax=ax2, data=df, x='identity_merge', y='mean_prefer');\n"
   ]
  },
  {
   "cell_type": "markdown",
   "metadata": {},
   "source": [
    "Looks like not much difference. There's a slight trend towards the non-Heterosexual group preferring younger partners, but it's very much not significantly different."
   ]
  },
  {
   "cell_type": "markdown",
   "metadata": {},
   "source": [
    "### Age Group\n",
    "\n",
    "Finally, did those trends we made wild claims about earlier hold up in the age data?"
   ]
  },
  {
   "cell_type": "code",
   "execution_count": null,
   "metadata": {},
   "outputs": [],
   "source": [
    "# Plot by sexual identity\n",
    "fig, (ax1, ax2) = plt.subplots(1, 2, figsize=(16, 8), sharey=True)\n",
    "sns.boxplot(ax=ax1, data=df, x='mean_age', y='mean_willing')\n",
    "sns.boxplot(ax=ax2, data=df, x='mean_age', y='mean_prefer')\n",
    "\n",
    "ax1.set_xticklabels(['18-22', '23-25', '26-29', '30+'])\n",
    "ax2.set_xticklabels(['18-22', '23-25', '26-29', '30+']);"
   ]
  },
  {
   "cell_type": "markdown",
   "metadata": {},
   "source": [
    "Let's just blindly do all the comparisons and see what happens (this is the proper way to do stats and definitely not a bad idea...)"
   ]
  },
  {
   "cell_type": "code",
   "execution_count": null,
   "metadata": {},
   "outputs": [],
   "source": [
    "# Split up the data by group\n",
    "values_willing = {}\n",
    "values_prefer = {}\n",
    "for group in np.unique(df['age']):\n",
    "    mask = df['age'] == group\n",
    "    \n",
    "    values_willing[group] = df['mean_willing'].values[mask]\n",
    "    values_prefer[group] = df['mean_prefer'].values[mask]\n",
    "\n",
    "# Blindly try every combination, with the power of itertools\n",
    "num_comps = 6  # Correct for multiple comparisons with a brute force multiplier (Bonferroni correction)\n",
    "for (group1, group2) in itertools.combinations(np.unique(df['age']), r=2):\n",
    "    print('{} vs {}'.format(group1, group2))\n",
    "    print('Willing P-value: {:0.4f}'.format(ttest_ind(values_willing[group1], values_willing[group2])[1]*num_comps))\n",
    "    print('Prefer P-value: {:0.4f}'.format(ttest_ind(values_prefer[group1], values_prefer[group2])[1]*num_comps))\n",
    "    print('')"
   ]
  },
  {
   "cell_type": "markdown",
   "metadata": {},
   "source": [
    "Neat, we can kind of see the trend we were making wild, hand-wavey claims about earlier:\n",
    "\n",
    "1. 18-22 year olds and 23-25 year olds look very similar (they are willing to date, and prefer slightly older partners)\n",
    "2. Somewhere between 25 and 29, respondents start to report a willingness to date younger partners\n",
    "3. The 30+ group has a strong and distinct bias towards younger partners that survives even a very cheesy correction for multiple comparisons"
   ]
  },
  {
   "cell_type": "code",
   "execution_count": null,
   "metadata": {},
   "outputs": [],
   "source": []
  }
 ],
 "metadata": {
  "language_info": {
   "name": "python",
   "pygments_lexer": "ipython3"
  }
 },
 "nbformat": 4,
 "nbformat_minor": 2
}
